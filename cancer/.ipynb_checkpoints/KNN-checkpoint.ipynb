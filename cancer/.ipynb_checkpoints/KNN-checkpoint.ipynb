{
 "cells": [
  {
   "cell_type": "code",
   "execution_count": 8,
   "metadata": {},
   "outputs": [],
   "source": [
    "#imports\n",
    "import tensorflow as tf\n",
    "import pandas as pd\n",
    "import numpy as np\n",
    "import matplotlib.pyplot as plt\n",
    "from sklearn.metrics import confusion_matrix\n",
    "from sklearn.model_selection import train_test_split\n",
    "from sklearn import preprocessing, neighbors"
   ]
  },
  {
   "cell_type": "code",
   "execution_count": 9,
   "metadata": {},
   "outputs": [],
   "source": [
    "#OBTER OS DADOS\n",
    "raw_data = pd.read_csv('breast-cancer-wisconsin.data',header=0,na_values=['?'])\n",
    "\n",
    "#REMOVER LINHAS COM VALORES INVÁLIDOS\n",
    "raw_data=raw_data.dropna()\n",
    "#raw_input_data.fillna(0,inplace = True)\n",
    "\n",
    "#ADICIONA UMA SEGUNDA CAMADA, PARA OS CASOS BENIGNOS\n",
    "raw_data['Benigno']=np.where(raw_data['Maligno']==4, 0, 1)\n",
    "\n",
    "\n",
    "#DIVIDIR DADOS ENTRE ENTRADA E SAÍDA\n",
    "raw_input_data = raw_data.iloc[:,1:9]\n",
    "raw_output_data = raw_data.iloc[:,10:]\n",
    "\n",
    "#TROCA SAIDAS 2 E 4 POR 0 E 1\n",
    "raw_output_data.replace([2, 4], [0, 1],inplace = True)\n"
   ]
  },
  {
   "cell_type": "code",
   "execution_count": 23,
   "metadata": {},
   "outputs": [],
   "source": [
    "#VALORES PARA VARIAR\n",
    "k = 5\n",
    "PORCENT_TESTE = 0.1"
   ]
  },
  {
   "cell_type": "code",
   "execution_count": 24,
   "metadata": {},
   "outputs": [],
   "source": [
    "#DIVIDE E NORMALIZA OS DADOS\n",
    "x_train, x_validate, y_train, y_validate = train_test_split(raw_input_data,raw_output_data, test_size=PORCENT_TESTE, shuffle= True)\n",
    "\n",
    "\n",
    "#transforma os datasets em arrays\n",
    "x_train = np.array(x_train.values)\n",
    "y_train = np.array(y_train.values)\n",
    "\n",
    "x_validate = np.array(x_validate.values)\n",
    "y_validate = np.array(y_validate.values)\n",
    "\n",
    "#normaliza os dados (dados já estao normalizados)\n",
    "#x_train = tf.keras.utils.normalize(x_train,axis=1)\n",
    "#x_test= tf.keras.utils.normalize(x_test,axis=1)"
   ]
  },
  {
   "cell_type": "code",
   "execution_count": 25,
   "metadata": {},
   "outputs": [],
   "source": [
    "#DEFINE PLACEHOLDERS PARA O TREINAMENTO\n",
    "L = len(x_train[0])\n",
    "x_treinamento = tf.placeholder(shape=[None, L], dtype=tf.float32)\n",
    "y_treinamento = tf.placeholder(shape=[None, len(y_validate[0])], dtype=tf.float32)\n",
    "x_teste = tf.placeholder(shape=[None, L], dtype=tf.float32)\n",
    "\n",
    "#DISTANCIA DE MANHATTAN\n",
    "distance = tf.reduce_sum(tf.abs(tf.subtract(x_treinamento, tf.expand_dims(x_teste, 1))), axis=2)\n",
    "\n",
    "#ACHA OS K PONTOS MAIS PRÓXIMOS\n",
    "_, indices_k = tf.nn.top_k(tf.negative(distance), k=k)\n",
    "top_k = tf.gather(y_treinamento, indices_k)\n",
    "\n",
    "soma = tf.reduce_sum(top_k, axis=1)\n",
    "pred = tf.argmax(soma, axis=1)"
   ]
  },
  {
   "cell_type": "code",
   "execution_count": 26,
   "metadata": {},
   "outputs": [
    {
     "name": "stdout",
     "output_type": "stream",
     "text": [
      "0.9855072463768116\n"
     ]
    }
   ],
   "source": [
    "#TREINAMENTO\n",
    "sess = tf.Session()\n",
    "resultado_pred = sess.run(pred, feed_dict={x_treinamento: x_train, x_teste: x_validate, y_treinamento: y_train})\n",
    "\n",
    "#AVALIAÇÃO\n",
    "acc = 0\n",
    "for pred, i in zip(resultado_pred, y_validate):\n",
    "    if pred == np.argmax(i):\n",
    "        acc += 1\n",
    "\n",
    "print(acc / len(resultado_pred))"
   ]
  },
  {
   "cell_type": "code",
   "execution_count": 29,
   "metadata": {},
   "outputs": [
    {
     "name": "stdout",
     "output_type": "stream",
     "text": [
      "[1 1 1 1 1 1 1 0 1 1 1 1 0 0 0 0 1 1 0 1 0 1 1 1 1 0 1 0 0 1 0 1 1 1 1 1 1\n",
      " 1 1 1 1 0 0 0 0 1 0 1 1 1 0 1 0 1 0 0 0 1 0 1 0 0 0 1 1 0 1 1 1]\n",
      "[1. 1. 1. 1. 1. 1. 1. 0. 1. 1. 1. 1. 0. 0. 0. 0. 1. 1. 0. 1. 0. 1. 1. 1.\n",
      " 1. 0. 1. 0. 1. 1. 0. 1. 1. 1. 1. 1. 1. 1. 1. 1. 1. 0. 0. 0. 0. 1. 0. 1.\n",
      " 1. 1. 0. 1. 0. 1. 0. 0. 0. 1. 0. 1. 0. 0. 0. 1. 1. 0. 1. 1. 1.]\n"
     ]
    }
   ],
   "source": [
    "#GERA O VETOR DE RESULTADOS ESTIMADOS E OS RESULTADOS CORRETOS\n",
    "y_true = np.zeros(len(y_validate))\n",
    "for i in range(len(y_validate)):\n",
    "    y_true[i] = np.argmax(y_validate[i]) \n",
    "    \n",
    "p = 500\n",
    "print(resultado_pred[0:p])    \n",
    "print(y_true[0:p])"
   ]
  },
  {
   "cell_type": "code",
   "execution_count": 30,
   "metadata": {},
   "outputs": [
    {
     "name": "stdout",
     "output_type": "stream",
     "text": [
      "[[25  0]\n",
      " [ 1 43]]\n"
     ]
    }
   ],
   "source": [
    "print(confusion_matrix(y_true, resultado_pred))"
   ]
  },
  {
   "cell_type": "code",
   "execution_count": 204,
   "metadata": {},
   "outputs": [],
   "source": [
    "#clf = neighbors.KNeighborsClassifier()\n",
    "#clf.fit(x_train,y_train)\n",
    "#acc = clf.score(x_validate, y_validate)\n",
    "#print(acc)\n",
    "\n",
    "#pred = clf.predict(x_validate)\n",
    "#print(pred)\n",
    "#print(y_validate)\n",
    "#print(confusion_matrix(y_validate, pred))"
   ]
  },
  {
   "cell_type": "code",
   "execution_count": null,
   "metadata": {},
   "outputs": [],
   "source": []
  }
 ],
 "metadata": {
  "kernelspec": {
   "display_name": "Python 3",
   "language": "python",
   "name": "python3"
  },
  "language_info": {
   "codemirror_mode": {
    "name": "ipython",
    "version": 3
   },
   "file_extension": ".py",
   "mimetype": "text/x-python",
   "name": "python",
   "nbconvert_exporter": "python",
   "pygments_lexer": "ipython3",
   "version": "3.6.8"
  }
 },
 "nbformat": 4,
 "nbformat_minor": 2
}
