{
 "cells": [
  {
   "cell_type": "code",
   "execution_count": 8,
   "metadata": {},
   "outputs": [],
   "source": [
    "import matplotlib.pyplot as plt\n",
    "import numpy as np\n",
    "from sklearn import datasets\n",
    "import tensorflow as tf\n",
    "\n",
    "# load data\n",
    "iris = datasets.load_iris()\n",
    "x_vals = np.array([x[0:4] for x in iris.data])\n",
    "y_vals = np.array(iris.target)\n",
    "\n",
    "# one hot encoding\n",
    "y_vals = np.eye(len(set(y_vals)))[y_vals]\n",
    "\n",
    "# normalize\n",
    "x_vals = (x_vals - x_vals.min(0)) / x_vals.ptp(0)\n",
    "\n",
    "# train-test split\n",
    "np.random.seed(59)\n",
    "train_indices = np.random.choice(len(x_vals), round(len(x_vals) * 0.8), replace=False)\n",
    "test_indices =np.array(list(set(range(len(x_vals))) - set(train_indices)))\n",
    "\n",
    "x_vals_train = x_vals[train_indices]\n",
    "x_vals_test = x_vals[test_indices]\n",
    "y_vals_train = y_vals[train_indices]\n",
    "y_vals_test = y_vals[test_indices]"
   ]
  },
  {
   "cell_type": "code",
   "execution_count": 22,
   "metadata": {},
   "outputs": [],
   "source": [
    "feature_number = len(x_vals_train[0])\n",
    "\n",
    "k = 5\n",
    "\n",
    "x_data_train = tf.placeholder(shape=[None, feature_number], dtype=tf.float32)\n",
    "y_data_train = tf.placeholder(shape=[None, len(y_vals[0])], dtype=tf.float32)\n",
    "x_data_test = tf.placeholder(shape=[None, feature_number], dtype=tf.float32)\n",
    "\n",
    "# manhattan distance\n",
    "distance = tf.reduce_sum(tf.abs(tf.subtract(x_data_train, tf.expand_dims(x_data_test, 1))), axis=2)\n",
    "\n",
    "# nearest k points\n",
    "_, top_k_indices = tf.nn.top_k(tf.negative(distance), k=k)\n",
    "top_k_label = tf.gather(y_data_train, top_k_indices)\n",
    "\n",
    "sum_up_predictions = tf.reduce_sum(top_k_label, axis=1)\n",
    "prediction = tf.argmax(sum_up_predictions, axis=1)"
   ]
  },
  {
   "cell_type": "code",
   "execution_count": 25,
   "metadata": {},
   "outputs": [
    {
     "name": "stdout",
     "output_type": "stream",
     "text": [
      "0.9666666666666667\n"
     ]
    }
   ],
   "source": [
    "sess = tf.Session()\n",
    "prediction_outcome = sess.run(prediction, feed_dict={x_data_train: x_vals_train,\n",
    "                               x_data_test: x_vals_test,\n",
    "                               y_data_train: y_vals_train})\n",
    "\n",
    "# evaluation\n",
    "accuracy = 0\n",
    "for pred, actual in zip(prediction_outcome, y_vals_test):\n",
    "    if pred == np.argmax(actual):\n",
    "        accuracy += 1\n",
    "\n",
    "print(accuracy / len(prediction_outcome))"
   ]
  },
  {
   "cell_type": "code",
   "execution_count": 18,
   "metadata": {},
   "outputs": [
    {
     "name": "stdout",
     "output_type": "stream",
     "text": [
      "[2 2 0 2 0 0 0 0 0 0 1 1 1 1 1 1 1 1 1 1 1 2 1 1 1 2 2 2 2 2]\n",
      "Tensor(\"GatherV2_1:0\", shape=(?, 5, 3), dtype=float32)\n"
     ]
    }
   ],
   "source": [
    "print(prediction_outcome)\n",
    "print(top_k_label)"
   ]
  },
  {
   "cell_type": "code",
   "execution_count": null,
   "metadata": {},
   "outputs": [],
   "source": []
  }
 ],
 "metadata": {
  "kernelspec": {
   "display_name": "Python 3",
   "language": "python",
   "name": "python3"
  },
  "language_info": {
   "codemirror_mode": {
    "name": "ipython",
    "version": 3
   },
   "file_extension": ".py",
   "mimetype": "text/x-python",
   "name": "python",
   "nbconvert_exporter": "python",
   "pygments_lexer": "ipython3",
   "version": "3.7.3"
  }
 },
 "nbformat": 4,
 "nbformat_minor": 2
}
